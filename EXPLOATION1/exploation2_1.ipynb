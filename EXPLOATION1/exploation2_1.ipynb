{
  "cells": [
    {
      "cell_type": "code",
      "execution_count": 1,
      "metadata": {
        "id": "85KsR3sK8R_f"
      },
      "outputs": [],
      "source": [
        "#데이터 가져오기\n",
        "from sklearn.datasets import load_diabetes\n",
        "\n",
        "diabetes=load_diabetes()\n",
        "\n",
        "#데이터 x,y로 나누기\n",
        "df_x=diabetes.data\n",
        "df_y=diabetes.target"
      ]
    },
    {
      "cell_type": "code",
      "execution_count": 2,
      "metadata": {
        "colab": {
          "base_uri": "https://localhost:8080/"
        },
        "id": "mThx0SAZ8jqA",
        "outputId": "9954ad6d-6cd2-4900-b5a6-b7893322469e"
      },
      "outputs": [
        {
          "name": "stdout",
          "output_type": "stream",
          "text": [
            "<class 'numpy.ndarray'>\n",
            "<class 'numpy.ndarray'>\n"
          ]
        }
      ],
      "source": [
        "#이미 데이터가 numpy형식임으로 변경x\n",
        "print(type(df_x))\n",
        "print(type(df_y))"
      ]
    },
    {
      "cell_type": "code",
      "execution_count": 3,
      "metadata": {
        "id": "Ec5W-p2b9t6-"
      },
      "outputs": [],
      "source": [
        "#x,y데이터 train, text로 분리\n",
        "from sklearn.model_selection import train_test_split\n",
        "\n",
        "X_train, X_test, y_train, y_test = train_test_split(df_x, df_y, test_size=0.2, random_state=42)"
      ]
    },
    {
      "cell_type": "code",
      "execution_count": 4,
      "metadata": {
        "colab": {
          "base_uri": "https://localhost:8080/"
        },
        "id": "lZu49208-IrQ",
        "outputId": "63c1af93-0c7a-4de9-f1cc-cdb79ef34ba3"
      },
      "outputs": [
        {
          "name": "stdout",
          "output_type": "stream",
          "text": [
            "(442, 10)\n",
            "(442,)\n"
          ]
        }
      ],
      "source": [
        "#모델 준비\n",
        "print(df_x.shape)\n",
        "print(df_y.shape)\n",
        "#특성 10개\n",
        "#길이가 10인 W와 1개의 숫자인 b를 준비\n",
        "import numpy as np\n",
        "W = np.random.rand(10)\n",
        "b = np.random.rand()"
      ]
    },
    {
      "cell_type": "code",
      "execution_count": 5,
      "metadata": {
        "id": "WiWmFhLY-Vxk"
      },
      "outputs": [],
      "source": [
        "#모델 구현\n",
        "def model(X, W, b):\n",
        "    predictions = 0\n",
        "    for i in range(10):\n",
        "        predictions += X[:, i] * W[i]\n",
        "    predictions += b\n",
        "    return predictions"
      ]
    },
    {
      "cell_type": "code",
      "execution_count": 6,
      "metadata": {
        "id": "T_EU4cHG-z_E"
      },
      "outputs": [],
      "source": [
        "#MSE 구현\n",
        "def MSE(a, b):\n",
        "    mse = ((a - b) ** 2).mean()  #두 값의 차이의 제곱의 평균\n",
        "    return mse\n",
        "\n",
        "#손실함수 정의\n",
        "def loss(x, w, b, y):\n",
        "    predictions = model(x, w, b)\n",
        "    L = MSE(predictions, y)\n",
        "    return L"
      ]
    },
    {
      "cell_type": "code",
      "execution_count": 7,
      "metadata": {
        "id": "G5n6C2fT-6ad"
      },
      "outputs": [],
      "source": [
        "#기울기(gradient) 구현\n",
        "def gradient(X, W, b, y):\n",
        "    # N은 데이터 포인트의 개수\n",
        "    N = len(y)\n",
        "    # y_pred 준비\n",
        "    y_pred = model(X, W, b)\n",
        "    # 직접미분공식을 이용해서 w에 대한 기울기 계산\n",
        "    dW = 1/N * 2 * X.T.dot(y_pred - y)\n",
        "    # b의 gradient 계산\n",
        "    db = 2 * (y_pred - y).mean()\n",
        "    return dW, db"
      ]
    },
    {
      "cell_type": "code",
      "execution_count": 8,
      "metadata": {
        "id": "tvyRR5K5_Xqd"
      },
      "outputs": [],
      "source": [
        "#학습률 설정\n",
        "LEARNING_RATE = 0.0001"
      ]
    },
    {
      "cell_type": "code",
      "execution_count": 9,
      "metadata": {
        "colab": {
          "base_uri": "https://localhost:8080/"
        },
        "id": "b3CSYzUT_g87",
        "outputId": "4c8c6b13-fed8-45c5-f6ad-9327171ee987"
      },
      "outputs": [
        {
          "name": "stdout",
          "output_type": "stream",
          "text": [
            "Iteration 10 : Loss 29525.4340\n",
            "Iteration 20 : Loss 29431.6857\n",
            "Iteration 30 : Loss 29338.3113\n",
            "Iteration 40 : Loss 29245.3094\n",
            "Iteration 50 : Loss 29152.6784\n",
            "Iteration 60 : Loss 29060.4170\n",
            "Iteration 70 : Loss 28968.5237\n",
            "Iteration 80 : Loss 28876.9969\n",
            "Iteration 90 : Loss 28785.8352\n",
            "Iteration 100 : Loss 28695.0371\n",
            "Iteration 110 : Loss 28604.6013\n",
            "Iteration 120 : Loss 28514.5261\n",
            "Iteration 130 : Loss 28424.8103\n",
            "Iteration 140 : Loss 28335.4524\n",
            "Iteration 150 : Loss 28246.4509\n",
            "Iteration 160 : Loss 28157.8044\n",
            "Iteration 170 : Loss 28069.5115\n",
            "Iteration 180 : Loss 27981.5709\n",
            "Iteration 190 : Loss 27893.9810\n",
            "Iteration 200 : Loss 27806.7405\n",
            "Iteration 210 : Loss 27719.8479\n",
            "Iteration 220 : Loss 27633.3020\n",
            "Iteration 230 : Loss 27547.1013\n",
            "Iteration 240 : Loss 27461.2444\n",
            "Iteration 250 : Loss 27375.7300\n",
            "Iteration 260 : Loss 27290.5567\n",
            "Iteration 270 : Loss 27205.7232\n",
            "Iteration 280 : Loss 27121.2280\n",
            "Iteration 290 : Loss 27037.0698\n",
            "Iteration 300 : Loss 26953.2473\n",
            "Iteration 310 : Loss 26869.7592\n",
            "Iteration 320 : Loss 26786.6041\n",
            "Iteration 330 : Loss 26703.7806\n",
            "Iteration 340 : Loss 26621.2875\n",
            "Iteration 350 : Loss 26539.1235\n",
            "Iteration 360 : Loss 26457.2871\n",
            "Iteration 370 : Loss 26375.7772\n",
            "Iteration 380 : Loss 26294.5924\n",
            "Iteration 390 : Loss 26213.7314\n",
            "Iteration 400 : Loss 26133.1929\n",
            "Iteration 410 : Loss 26052.9757\n",
            "Iteration 420 : Loss 25973.0784\n",
            "Iteration 430 : Loss 25893.4998\n",
            "Iteration 440 : Loss 25814.2386\n",
            "Iteration 450 : Loss 25735.2935\n",
            "Iteration 460 : Loss 25656.6632\n",
            "Iteration 470 : Loss 25578.3466\n",
            "Iteration 480 : Loss 25500.3424\n",
            "Iteration 490 : Loss 25422.6493\n",
            "Iteration 500 : Loss 25345.2660\n",
            "Iteration 510 : Loss 25268.1914\n",
            "Iteration 520 : Loss 25191.4242\n",
            "Iteration 530 : Loss 25114.9631\n",
            "Iteration 540 : Loss 25038.8070\n",
            "Iteration 550 : Loss 24962.9547\n",
            "Iteration 560 : Loss 24887.4048\n",
            "Iteration 570 : Loss 24812.1563\n",
            "Iteration 580 : Loss 24737.2079\n",
            "Iteration 590 : Loss 24662.5584\n",
            "Iteration 600 : Loss 24588.2066\n",
            "Iteration 610 : Loss 24514.1514\n",
            "Iteration 620 : Loss 24440.3915\n",
            "Iteration 630 : Loss 24366.9258\n",
            "Iteration 640 : Loss 24293.7531\n",
            "Iteration 650 : Loss 24220.8722\n",
            "Iteration 660 : Loss 24148.2819\n",
            "Iteration 670 : Loss 24075.9812\n",
            "Iteration 680 : Loss 24003.9688\n",
            "Iteration 690 : Loss 23932.2436\n",
            "Iteration 700 : Loss 23860.8044\n",
            "Iteration 710 : Loss 23789.6501\n",
            "Iteration 720 : Loss 23718.7796\n",
            "Iteration 730 : Loss 23648.1918\n",
            "Iteration 740 : Loss 23577.8854\n",
            "Iteration 750 : Loss 23507.8595\n",
            "Iteration 760 : Loss 23438.1127\n",
            "Iteration 770 : Loss 23368.6442\n",
            "Iteration 780 : Loss 23299.4527\n",
            "Iteration 790 : Loss 23230.5371\n",
            "Iteration 800 : Loss 23161.8963\n",
            "Iteration 810 : Loss 23093.5292\n",
            "Iteration 820 : Loss 23025.4348\n",
            "Iteration 830 : Loss 22957.6120\n",
            "Iteration 840 : Loss 22890.0596\n",
            "Iteration 850 : Loss 22822.7766\n",
            "Iteration 860 : Loss 22755.7619\n",
            "Iteration 870 : Loss 22689.0145\n",
            "Iteration 880 : Loss 22622.5332\n",
            "Iteration 890 : Loss 22556.3170\n",
            "Iteration 900 : Loss 22490.3649\n",
            "Iteration 910 : Loss 22424.6758\n",
            "Iteration 920 : Loss 22359.2486\n",
            "Iteration 930 : Loss 22294.0824\n",
            "Iteration 940 : Loss 22229.1759\n",
            "Iteration 950 : Loss 22164.5284\n",
            "Iteration 960 : Loss 22100.1386\n",
            "Iteration 970 : Loss 22036.0055\n",
            "Iteration 980 : Loss 21972.1282\n",
            "Iteration 990 : Loss 21908.5056\n",
            "Iteration 1000 : Loss 21845.1367\n"
          ]
        }
      ],
      "source": [
        "#모델 학습하기\n",
        "losses = []\n",
        "\n",
        "for i in range(1, 1001):\n",
        "    dW, db = gradient(X_train, W, b, y_train)\n",
        "    W -= LEARNING_RATE * dW\n",
        "    b -= LEARNING_RATE * db\n",
        "    L = loss(X_train, W, b, y_train)\n",
        "    losses.append(L)\n",
        "    if i % 10 == 0:\n",
        "        print('Iteration %d : Loss %0.4f' % (i, L))"
      ]
    },
    {
      "cell_type": "code",
      "execution_count": 10,
      "metadata": {
        "colab": {
          "base_uri": "https://localhost:8080/"
        },
        "id": "pK8cOYR6CD-d",
        "outputId": "f91d4ec4-803e-4610-95f2-c407b788c8fd"
      },
      "outputs": [
        {
          "data": {
            "text/plain": [
              "19134.84750103948"
            ]
          },
          "execution_count": 10,
          "metadata": {},
          "output_type": "execute_result"
        }
      ],
      "source": [
        "#test로 성능확인\n",
        "prediction = model(X_test, W, b)\n",
        "mse = loss(X_test, W, b, y_test)\n",
        "mse"
      ]
    },
    {
      "cell_type": "code",
      "execution_count": 13,
      "metadata": {
        "colab": {
          "base_uri": "https://localhost:8080/",
          "height": 430
        },
        "id": "7j3eBsKbCR6d",
        "outputId": "b3176d8a-bf35-4720-cd94-eebdd57543cc"
      },
      "outputs": [
        {
          "data": {
            "image/png": "[encoded data removed]",
            "text/plain": [
              "<Figure size 640x480 with 1 Axes>"
            ]
          },
          "metadata": {},
          "output_type": "display_data"
        }
      ],
      "source": [
        "import matplotlib.pyplot as plt\n",
        "plt.scatter(X_test[:, 0], y_test)\n",
        "plt.scatter(X_test[:, 0], prediction)\n",
        "plt.show()"
      ]
    },
    {
      "cell_type": "code",
      "execution_count": 14,
      "metadata": {
        "colab": {
          "base_uri": "https://localhost:8080/"
        },
        "id": "xENm-tpHFqLL",
        "outputId": "49a77e45-f114-479a-a514-8aacf9c635a6"
      },
      "outputs": [
        {
          "name": "stdout",
          "output_type": "stream",
          "text": [
            "corr 0 [[1.         0.18788875]\n",
            " [0.18788875 1.        ]]\n",
            "corr 1 [[1.       0.043062]\n",
            " [0.043062 1.      ]]\n",
            "corr 2 [[1.         0.58645013]\n",
            " [0.58645013 1.        ]]\n",
            "corr 3 [[1.         0.44148176]\n",
            " [0.44148176 1.        ]]\n",
            "corr 4 [[1.         0.21202248]\n",
            " [0.21202248 1.        ]]\n",
            "corr 5 [[1.         0.17405359]\n",
            " [0.17405359 1.        ]]\n",
            "corr 6 [[ 1.         -0.39478925]\n",
            " [-0.39478925  1.        ]]\n",
            "corr 7 [[1.         0.43045288]\n",
            " [0.43045288 1.        ]]\n",
            "corr 8 [[1.         0.56588259]\n",
            " [0.56588259 1.        ]]\n",
            "corr 9 [[1.         0.38248348]\n",
            " [0.38248348 1.        ]]\n"
          ]
        }
      ],
      "source": [
        "#로스율 줄이기\n",
        "#상관관계 분석\n",
        "for i in range(0,10):\n",
        "  print(\"corr\",i,np.corrcoef(diabetes.data[:, i],diabetes.target))\n",
        "# 0번 0.18, 1번 0.04  2번 0.58  3번 0.44  4번 0.21\n",
        "# 5번 0.17  6번 -0.39  7번 0.43  8번 0.56  9번 0.38"
      ]
    },
    {
      "cell_type": "code",
      "execution_count": 15,
      "metadata": {
        "colab": {
          "base_uri": "https://localhost:8080/"
        },
        "id": "f57A69UIDJms",
        "outputId": "0830d0a9-ef03-488c-e7db-2c2a573b1b80"
      },
      "outputs": [
        {
          "name": "stdout",
          "output_type": "stream",
          "text": [
            "['age', 'sex', 'bmi', 'bp', 's1', 's2', 's3', 's4', 's5', 's6']\n",
            "(442, 4)\n"
          ]
        }
      ],
      "source": [
        "#피처수와 학습률 변경\n",
        "print(diabetes.feature_names)\n",
        "df_x1=[]\n",
        "df_x1=diabetes.data[:, [2,3,7,8]]\n",
        "\n",
        "print(df_x1.shape)"
      ]
    },
    {
      "cell_type": "code",
      "execution_count": 16,
      "metadata": {
        "colab": {
          "base_uri": "https://localhost:8080/"
        },
        "id": "L2AwFrZ5AzlD",
        "outputId": "4e892672-70ec-45ad-a098-7caf45d5f26c"
      },
      "outputs": [
        {
          "name": "stdout",
          "output_type": "stream",
          "text": [
            "Iteration 10 : Loss 6281.3128\n",
            "Iteration 20 : Loss 5957.4300\n",
            "Iteration 30 : Loss 5899.3862\n",
            "Iteration 40 : Loss 5845.5033\n",
            "Iteration 50 : Loss 5792.7419\n",
            "Iteration 60 : Loss 5741.0452\n",
            "Iteration 70 : Loss 5690.3911\n",
            "Iteration 80 : Loss 5640.7584\n",
            "Iteration 90 : Loss 5592.1263\n",
            "Iteration 100 : Loss 5544.4744\n",
            "Iteration 110 : Loss 5497.7828\n",
            "Iteration 120 : Loss 5452.0319\n",
            "Iteration 130 : Loss 5407.2025\n",
            "Iteration 140 : Loss 5363.2759\n",
            "Iteration 150 : Loss 5320.2337\n",
            "Iteration 160 : Loss 5278.0579\n",
            "Iteration 170 : Loss 5236.7309\n",
            "Iteration 180 : Loss 5196.2354\n",
            "Iteration 190 : Loss 5156.5545\n",
            "Iteration 200 : Loss 5117.6716\n",
            "Iteration 210 : Loss 5079.5705\n",
            "Iteration 220 : Loss 5042.2352\n",
            "Iteration 230 : Loss 5005.6502\n",
            "Iteration 240 : Loss 4969.8002\n",
            "Iteration 250 : Loss 4934.6703\n",
            "Iteration 260 : Loss 4900.2458\n",
            "Iteration 270 : Loss 4866.5124\n",
            "Iteration 280 : Loss 4833.4560\n",
            "Iteration 290 : Loss 4801.0628\n",
            "Iteration 300 : Loss 4769.3194\n",
            "Iteration 310 : Loss 4738.2125\n",
            "Iteration 320 : Loss 4707.7292\n",
            "Iteration 330 : Loss 4677.8569\n",
            "Iteration 340 : Loss 4648.5830\n",
            "Iteration 350 : Loss 4619.8955\n",
            "Iteration 360 : Loss 4591.7824\n",
            "Iteration 370 : Loss 4564.2321\n",
            "Iteration 380 : Loss 4537.2331\n",
            "Iteration 390 : Loss 4510.7741\n",
            "Iteration 400 : Loss 4484.8443\n",
            "Iteration 410 : Loss 4459.4329\n",
            "Iteration 420 : Loss 4434.5294\n",
            "Iteration 430 : Loss 4410.1233\n",
            "Iteration 440 : Loss 4386.2047\n",
            "Iteration 450 : Loss 4362.7636\n",
            "Iteration 460 : Loss 4339.7904\n",
            "Iteration 470 : Loss 4317.2754\n",
            "Iteration 480 : Loss 4295.2095\n",
            "Iteration 490 : Loss 4273.5835\n",
            "Iteration 500 : Loss 4252.3885\n",
            "Iteration 510 : Loss 4231.6157\n",
            "Iteration 520 : Loss 4211.2566\n",
            "Iteration 530 : Loss 4191.3027\n",
            "Iteration 540 : Loss 4171.7459\n",
            "Iteration 550 : Loss 4152.5780\n",
            "Iteration 560 : Loss 4133.7913\n",
            "Iteration 570 : Loss 4115.3779\n",
            "Iteration 580 : Loss 4097.3303\n",
            "Iteration 590 : Loss 4079.6410\n",
            "Iteration 600 : Loss 4062.3029\n",
            "Iteration 610 : Loss 4045.3087\n",
            "Iteration 620 : Loss 4028.6516\n",
            "Iteration 630 : Loss 4012.3246\n",
            "Iteration 640 : Loss 3996.3211\n",
            "Iteration 650 : Loss 3980.6345\n",
            "Iteration 660 : Loss 3965.2585\n",
            "Iteration 670 : Loss 3950.1866\n",
            "Iteration 680 : Loss 3935.4128\n",
            "Iteration 690 : Loss 3920.9310\n",
            "Iteration 700 : Loss 3906.7354\n",
            "Iteration 710 : Loss 3892.8200\n",
            "Iteration 720 : Loss 3879.1792\n",
            "Iteration 730 : Loss 3865.8076\n",
            "Iteration 740 : Loss 3852.6995\n",
            "Iteration 750 : Loss 3839.8497\n",
            "Iteration 760 : Loss 3827.2530\n",
            "Iteration 770 : Loss 3814.9043\n",
            "Iteration 780 : Loss 3802.7984\n",
            "Iteration 790 : Loss 3790.9306\n",
            "Iteration 800 : Loss 3779.2959\n",
            "Iteration 810 : Loss 3767.8898\n",
            "Iteration 820 : Loss 3756.7075\n",
            "Iteration 830 : Loss 3745.7445\n",
            "Iteration 840 : Loss 3734.9965\n",
            "Iteration 850 : Loss 3724.4589\n",
            "Iteration 860 : Loss 3714.1277\n",
            "Iteration 870 : Loss 3703.9987\n",
            "Iteration 880 : Loss 3694.0677\n",
            "Iteration 890 : Loss 3684.3307\n",
            "Iteration 900 : Loss 3674.7839\n",
            "Iteration 910 : Loss 3665.4234\n",
            "Iteration 920 : Loss 3656.2454\n",
            "Iteration 930 : Loss 3647.2463\n",
            "Iteration 940 : Loss 3638.4224\n",
            "Iteration 950 : Loss 3629.7702\n",
            "Iteration 960 : Loss 3621.2863\n",
            "Iteration 970 : Loss 3612.9672\n",
            "Iteration 980 : Loss 3604.8096\n",
            "Iteration 990 : Loss 3596.8104\n",
            "Iteration 1000 : Loss 3588.9662\n",
            "Iteration 1010 : Loss 3581.2739\n",
            "Iteration 1020 : Loss 3573.7306\n",
            "Iteration 1030 : Loss 3566.3332\n",
            "Iteration 1040 : Loss 3559.0787\n",
            "Iteration 1050 : Loss 3551.9643\n",
            "Iteration 1060 : Loss 3544.9872\n",
            "Iteration 1070 : Loss 3538.1446\n",
            "Iteration 1080 : Loss 3531.4338\n",
            "Iteration 1090 : Loss 3524.8521\n",
            "Iteration 1100 : Loss 3518.3970\n",
            "Iteration 1110 : Loss 3512.0658\n",
            "Iteration 1120 : Loss 3505.8562\n",
            "Iteration 1130 : Loss 3499.7657\n",
            "Iteration 1140 : Loss 3493.7918\n",
            "Iteration 1150 : Loss 3487.9323\n",
            "Iteration 1160 : Loss 3482.1848\n",
            "Iteration 1170 : Loss 3476.5471\n",
            "Iteration 1180 : Loss 3471.0170\n",
            "Iteration 1190 : Loss 3465.5923\n",
            "Iteration 1200 : Loss 3460.2710\n",
            "Iteration 1210 : Loss 3455.0508\n",
            "Iteration 1220 : Loss 3449.9299\n",
            "Iteration 1230 : Loss 3444.9063\n",
            "Iteration 1240 : Loss 3439.9779\n",
            "Iteration 1250 : Loss 3435.1428\n",
            "Iteration 1260 : Loss 3430.3993\n",
            "Iteration 1270 : Loss 3425.7454\n",
            "Iteration 1280 : Loss 3421.1794\n",
            "Iteration 1290 : Loss 3416.6996\n",
            "Iteration 1300 : Loss 3412.3041\n",
            "Iteration 1310 : Loss 3407.9913\n",
            "Iteration 1320 : Loss 3403.7596\n",
            "Iteration 1330 : Loss 3399.6073\n",
            "Iteration 1340 : Loss 3395.5329\n",
            "Iteration 1350 : Loss 3391.5348\n",
            "Iteration 1360 : Loss 3387.6114\n",
            "Iteration 1370 : Loss 3383.7613\n",
            "Iteration 1380 : Loss 3379.9831\n",
            "Iteration 1390 : Loss 3376.2752\n",
            "Iteration 1400 : Loss 3372.6363\n",
            "Iteration 1410 : Loss 3369.0650\n",
            "Iteration 1420 : Loss 3365.5600\n",
            "Iteration 1430 : Loss 3362.1199\n",
            "Iteration 1440 : Loss 3358.7435\n",
            "Iteration 1450 : Loss 3355.4295\n",
            "Iteration 1460 : Loss 3352.1766\n",
            "Iteration 1470 : Loss 3348.9836\n",
            "Iteration 1480 : Loss 3345.8494\n",
            "Iteration 1490 : Loss 3342.7728\n",
            "Iteration 1500 : Loss 3339.7526\n",
            "Iteration 1510 : Loss 3336.7877\n",
            "Iteration 1520 : Loss 3333.8770\n",
            "Iteration 1530 : Loss 3331.0194\n",
            "Iteration 1540 : Loss 3328.2140\n",
            "Iteration 1550 : Loss 3325.4596\n",
            "Iteration 1560 : Loss 3322.7552\n",
            "Iteration 1570 : Loss 3320.0999\n",
            "Iteration 1580 : Loss 3317.4927\n",
            "Iteration 1590 : Loss 3314.9326\n",
            "Iteration 1600 : Loss 3312.4187\n",
            "Iteration 1610 : Loss 3309.9501\n",
            "Iteration 1620 : Loss 3307.5259\n",
            "Iteration 1630 : Loss 3305.1453\n",
            "Iteration 1640 : Loss 3302.8073\n",
            "Iteration 1650 : Loss 3300.5111\n",
            "Iteration 1660 : Loss 3298.2559\n",
            "Iteration 1670 : Loss 3296.0409\n",
            "Iteration 1680 : Loss 3293.8653\n",
            "Iteration 1690 : Loss 3291.7283\n",
            "Iteration 1700 : Loss 3289.6292\n",
            "Iteration 1710 : Loss 3287.5672\n",
            "Iteration 1720 : Loss 3285.5416\n",
            "Iteration 1730 : Loss 3283.5516\n",
            "Iteration 1740 : Loss 3281.5967\n",
            "Iteration 1750 : Loss 3279.6760\n",
            "Iteration 1760 : Loss 3277.7890\n",
            "Iteration 1770 : Loss 3275.9349\n",
            "Iteration 1780 : Loss 3274.1132\n",
            "Iteration 1790 : Loss 3272.3231\n",
            "Iteration 1800 : Loss 3270.5641\n",
            "Iteration 1810 : Loss 3268.8356\n",
            "Iteration 1820 : Loss 3267.1370\n",
            "Iteration 1830 : Loss 3265.4676\n",
            "Iteration 1840 : Loss 3263.8269\n",
            "Iteration 1850 : Loss 3262.2144\n",
            "Iteration 1860 : Loss 3260.6295\n",
            "Iteration 1870 : Loss 3259.0717\n",
            "Iteration 1880 : Loss 3257.5404\n",
            "Iteration 1890 : Loss 3256.0352\n",
            "Iteration 1900 : Loss 3254.5554\n",
            "Iteration 1910 : Loss 3253.1007\n",
            "Iteration 1920 : Loss 3251.6706\n",
            "Iteration 1930 : Loss 3250.2645\n",
            "Iteration 1940 : Loss 3248.8820\n",
            "Iteration 1950 : Loss 3247.5227\n",
            "Iteration 1960 : Loss 3246.1861\n",
            "Iteration 1970 : Loss 3244.8717\n",
            "Iteration 1980 : Loss 3243.5792\n",
            "Iteration 1990 : Loss 3242.3081\n"
          ]
        }
      ],
      "source": [
        "X_train, X_test, y_train, y_test = train_test_split(df_x1, df_y, test_size=0.2, random_state=42)\n",
        "#특성 4개\n",
        "import numpy as np\n",
        "W = np.random.rand(4)\n",
        "b = np.random.rand()\n",
        "\n",
        "#모델 학습하기\n",
        "losses = []\n",
        "\n",
        "#모델 구현\n",
        "def model(X, W, b):\n",
        "    predictions = 0\n",
        "    for i in range(4):\n",
        "        predictions += X[:, i] * W[i]\n",
        "    predictions += b\n",
        "    return predictions\n",
        "\n",
        "#학습도 2000번으로 증가\n",
        "LEARNING_RATE = 0.1\n",
        "for i in range(1, 2000):\n",
        "    dW, db = gradient(X_train, W, b, y_train)\n",
        "    W -= LEARNING_RATE * dW\n",
        "    b -= LEARNING_RATE * db\n",
        "    L = loss(X_train, W, b, y_train)\n",
        "    losses.append(L)\n",
        "    if i % 10 == 0:\n",
        "        print('Iteration %d : Loss %0.4f' % (i, L))"
      ]
    },
    {
      "cell_type": "code",
      "execution_count": 17,
      "metadata": {
        "colab": {
          "base_uri": "https://localhost:8080/"
        },
        "id": "iJ9v7rhq8DVb",
        "outputId": "dd33753c-5b1d-48f9-d9d5-26382410aa73"
      },
      "outputs": [
        {
          "data": {
            "text/plain": [
              "2919.9121633806317"
            ]
          },
          "execution_count": 17,
          "metadata": {},
          "output_type": "execute_result"
        }
      ],
      "source": [
        "#test로 성능확인\n",
        "prediction = model(X_test, W, b)\n",
        "mse = loss(X_test, W, b, y_test)\n",
        "mse"
      ]
    },
    {
      "cell_type": "code",
      "execution_count": 18,
      "metadata": {
        "colab": {
          "base_uri": "https://localhost:8080/",
          "height": 430
        },
        "id": "7_yHV-hxKXeG",
        "outputId": "ffcdcc7d-1374-4d33-858c-5446d8ccb83a"
      },
      "outputs": [
        {
          "data": {
            "image/png": "[encoded data removed]",
            "text/plain": [
              "<Figure size 640x480 with 1 Axes>"
            ]
          },
          "metadata": {},
          "output_type": "display_data"
        }
      ],
      "source": [
        "import matplotlib.pyplot as plt\n",
        "plt.scatter(X_test[:, 0], y_test)\n",
        "plt.scatter(X_test[:, 0], prediction)\n",
        "plt.show()"
      ]
    }
  ],
  "metadata": {
    "colab": {
      "provenance": []
    },
    "kernelspec": {
      "display_name": "Python 3",
      "name": "python3"
    },
    "language_info": {
      "codemirror_mode": {
        "name": "ipython",
        "version": 3
      },
      "file_extension": ".py",
      "mimetype": "text/x-python",
      "name": "python",
      "nbconvert_exporter": "python",
      "pygments_lexer": "ipython3",
      "version": "3.11.0"
    }
  },
  "nbformat": 4,
  "nbformat_minor": 0
}
