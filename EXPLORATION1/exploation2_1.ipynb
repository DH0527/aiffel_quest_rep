{
  "nbformat": 4,
  "nbformat_minor": 0,
  "metadata": {
    "colab": {
      "provenance": []
    },
    "kernelspec": {
      "name": "python3",
      "display_name": "Python 3"
    },
    "language_info": {
      "name": "python"
    }
  },
  "cells": [
    {
      "cell_type": "code",
      "execution_count": 205,
      "metadata": {
        "id": "85KsR3sK8R_f"
      },
      "outputs": [],
      "source": [
        "#데이터 가져오기\n",
        "from sklearn.datasets import load_diabetes\n",
        "\n",
        "diabetes=load_diabetes()\n",
        "\n",
        "#데이터 x,y로 나누기\n",
        "df_x=diabetes.data\n",
        "df_y=diabetes.target"
      ]
    },
    {
      "cell_type": "code",
      "source": [
        "#이미 데이터가 numpy형식임으로 변경x\n",
        "print(type(df_x))\n",
        "print(type(df_y))"
      ],
      "metadata": {
        "colab": {
          "base_uri": "https://localhost:8080/"
        },
        "id": "mThx0SAZ8jqA",
        "outputId": "9954ad6d-6cd2-4900-b5a6-b7893322469e"
      },
      "execution_count": 206,
      "outputs": [
        {
          "output_type": "stream",
          "name": "stdout",
          "text": [
            "<class 'numpy.ndarray'>\n",
            "<class 'numpy.ndarray'>\n"
          ]
        }
      ]
    },
    {
      "cell_type": "code",
      "source": [
        "#x,y데이터 train, text로 분리\n",
        "from sklearn.model_selection import train_test_split\n",
        "\n",
        "X_train, X_test, y_train, y_test = train_test_split(df_x, df_y, test_size=0.2, random_state=42)"
      ],
      "metadata": {
        "id": "Ec5W-p2b9t6-"
      },
      "execution_count": 207,
      "outputs": []
    },
    {
      "cell_type": "code",
      "source": [
        "#모델 준비\n",
        "print(df_x.shape)\n",
        "print(df_y.shape)\n",
        "#특성 10개\n",
        "#길이가 10인 W와 1개의 숫자인 b를 준비\n",
        "import numpy as np\n",
        "W = np.random.rand(10)\n",
        "b = np.random.rand()"
      ],
      "metadata": {
        "colab": {
          "base_uri": "https://localhost:8080/"
        },
        "id": "lZu49208-IrQ",
        "outputId": "63c1af93-0c7a-4de9-f1cc-cdb79ef34ba3"
      },
      "execution_count": 208,
      "outputs": [
        {
          "output_type": "stream",
          "name": "stdout",
          "text": [
            "(442, 10)\n",
            "(442,)\n"
          ]
        }
      ]
    },
    {
      "cell_type": "code",
      "source": [
        "#모델 구현\n",
        "def model(X, W, b):\n",
        "    predictions = 0\n",
        "    for i in range(10):\n",
        "        predictions += X[:, i] * W[i]\n",
        "    predictions += b\n",
        "    return predictions"
      ],
      "metadata": {
        "id": "WiWmFhLY-Vxk"
      },
      "execution_count": 209,
      "outputs": []
    },
    {
      "cell_type": "code",
      "source": [
        "#MSE 구현\n",
        "def MSE(a, b):\n",
        "    mse = ((a - b) ** 2).mean()  #두 값의 차이의 제곱의 평균\n",
        "    return mse\n",
        "\n",
        "#손실함수 정의\n",
        "def loss(x, w, b, y):\n",
        "    predictions = model(x, w, b)\n",
        "    L = MSE(predictions, y)\n",
        "    return L"
      ],
      "metadata": {
        "id": "T_EU4cHG-z_E"
      },
      "execution_count": 210,
      "outputs": []
    },
    {
      "cell_type": "code",
      "source": [
        "#기울기(gradient) 구현\n",
        "def gradient(X, W, b, y):\n",
        "    # N은 데이터 포인트의 개수\n",
        "    N = len(y)\n",
        "    # y_pred 준비\n",
        "    y_pred = model(X, W, b)\n",
        "    # 직접미분공식을 이용해서 w에 대한 기울기 계산\n",
        "    dW = 1/N * 2 * X.T.dot(y_pred - y)\n",
        "    # b의 gradient 계산\n",
        "    db = 2 * (y_pred - y).mean()\n",
        "    return dW, db"
      ],
      "metadata": {
        "id": "G5n6C2fT-6ad"
      },
      "execution_count": 211,
      "outputs": []
    },
    {
      "cell_type": "code",
      "source": [
        "#학습률 설정\n",
        "LEARNING_RATE = 0.0001"
      ],
      "metadata": {
        "id": "tvyRR5K5_Xqd"
      },
      "execution_count": 212,
      "outputs": []
    },
    {
      "cell_type": "code",
      "source": [
        "#모델 학습하기\n",
        "losses = []\n",
        "\n",
        "for i in range(1, 1001):\n",
        "    dW, db = gradient(X_train, W, b, y_train)\n",
        "    W -= LEARNING_RATE * dW\n",
        "    b -= LEARNING_RATE * db\n",
        "    L = loss(X_train, W, b, y_train)\n",
        "    losses.append(L)\n",
        "    if i % 10 == 0:\n",
        "        print('Iteration %d : Loss %0.4f' % (i, L))"
      ],
      "metadata": {
        "colab": {
          "base_uri": "https://localhost:8080/"
        },
        "id": "b3CSYzUT_g87",
        "outputId": "4c8c6b13-fed8-45c5-f6ad-9327171ee987"
      },
      "execution_count": 213,
      "outputs": [
        {
          "output_type": "stream",
          "name": "stdout",
          "text": [
            "Iteration 10 : Loss 29402.0916\n",
            "Iteration 20 : Loss 29308.8162\n",
            "Iteration 30 : Loss 29215.9129\n",
            "Iteration 40 : Loss 29123.3802\n",
            "Iteration 50 : Loss 29031.2166\n",
            "Iteration 60 : Loss 28939.4207\n",
            "Iteration 70 : Loss 28847.9910\n",
            "Iteration 80 : Loss 28756.9259\n",
            "Iteration 90 : Loss 28666.2242\n",
            "Iteration 100 : Loss 28575.8842\n",
            "Iteration 110 : Loss 28485.9046\n",
            "Iteration 120 : Loss 28396.2839\n",
            "Iteration 130 : Loss 28307.0208\n",
            "Iteration 140 : Loss 28218.1137\n",
            "Iteration 150 : Loss 28129.5612\n",
            "Iteration 160 : Loss 28041.3619\n",
            "Iteration 170 : Loss 27953.5145\n",
            "Iteration 180 : Loss 27866.0175\n",
            "Iteration 190 : Loss 27778.8695\n",
            "Iteration 200 : Loss 27692.0691\n",
            "Iteration 210 : Loss 27605.6150\n",
            "Iteration 220 : Loss 27519.5057\n",
            "Iteration 230 : Loss 27433.7399\n",
            "Iteration 240 : Loss 27348.3162\n",
            "Iteration 250 : Loss 27263.2332\n",
            "Iteration 260 : Loss 27178.4896\n",
            "Iteration 270 : Loss 27094.0840\n",
            "Iteration 280 : Loss 27010.0151\n",
            "Iteration 290 : Loss 26926.2815\n",
            "Iteration 300 : Loss 26842.8819\n",
            "Iteration 310 : Loss 26759.8150\n",
            "Iteration 320 : Loss 26677.0794\n",
            "Iteration 330 : Loss 26594.6738\n",
            "Iteration 340 : Loss 26512.5968\n",
            "Iteration 350 : Loss 26430.8473\n",
            "Iteration 360 : Loss 26349.4238\n",
            "Iteration 370 : Loss 26268.3251\n",
            "Iteration 380 : Loss 26187.5499\n",
            "Iteration 390 : Loss 26107.0968\n",
            "Iteration 400 : Loss 26026.9646\n",
            "Iteration 410 : Loss 25947.1521\n",
            "Iteration 420 : Loss 25867.6578\n",
            "Iteration 430 : Loss 25788.4807\n",
            "Iteration 440 : Loss 25709.6193\n",
            "Iteration 450 : Loss 25631.0725\n",
            "Iteration 460 : Loss 25552.8389\n",
            "Iteration 470 : Loss 25474.9174\n",
            "Iteration 480 : Loss 25397.3067\n",
            "Iteration 490 : Loss 25320.0055\n",
            "Iteration 500 : Loss 25243.0126\n",
            "Iteration 510 : Loss 25166.3268\n",
            "Iteration 520 : Loss 25089.9469\n",
            "Iteration 530 : Loss 25013.8715\n",
            "Iteration 540 : Loss 24938.0996\n",
            "Iteration 550 : Loss 24862.6299\n",
            "Iteration 560 : Loss 24787.4612\n",
            "Iteration 570 : Loss 24712.5923\n",
            "Iteration 580 : Loss 24638.0220\n",
            "Iteration 590 : Loss 24563.7491\n",
            "Iteration 600 : Loss 24489.7724\n",
            "Iteration 610 : Loss 24416.0907\n",
            "Iteration 620 : Loss 24342.7029\n",
            "Iteration 630 : Loss 24269.6078\n",
            "Iteration 640 : Loss 24196.8042\n",
            "Iteration 650 : Loss 24124.2909\n",
            "Iteration 660 : Loss 24052.0669\n",
            "Iteration 670 : Loss 23980.1309\n",
            "Iteration 680 : Loss 23908.4817\n",
            "Iteration 690 : Loss 23837.1183\n",
            "Iteration 700 : Loss 23766.0396\n",
            "Iteration 710 : Loss 23695.2442\n",
            "Iteration 720 : Loss 23624.7312\n",
            "Iteration 730 : Loss 23554.4995\n",
            "Iteration 740 : Loss 23484.5478\n",
            "Iteration 750 : Loss 23414.8750\n",
            "Iteration 760 : Loss 23345.4801\n",
            "Iteration 770 : Loss 23276.3620\n",
            "Iteration 780 : Loss 23207.5195\n",
            "Iteration 790 : Loss 23138.9515\n",
            "Iteration 800 : Loss 23070.6570\n",
            "Iteration 810 : Loss 23002.6348\n",
            "Iteration 820 : Loss 22934.8839\n",
            "Iteration 830 : Loss 22867.4032\n",
            "Iteration 840 : Loss 22800.1916\n",
            "Iteration 850 : Loss 22733.2480\n",
            "Iteration 860 : Loss 22666.5713\n",
            "Iteration 870 : Loss 22600.1606\n",
            "Iteration 880 : Loss 22534.0146\n",
            "Iteration 890 : Loss 22468.1325\n",
            "Iteration 900 : Loss 22402.5130\n",
            "Iteration 910 : Loss 22337.1553\n",
            "Iteration 920 : Loss 22272.0581\n",
            "Iteration 930 : Loss 22207.2206\n",
            "Iteration 940 : Loss 22142.6415\n",
            "Iteration 950 : Loss 22078.3200\n",
            "Iteration 960 : Loss 22014.2550\n",
            "Iteration 970 : Loss 21950.4455\n",
            "Iteration 980 : Loss 21886.8904\n",
            "Iteration 990 : Loss 21823.5887\n",
            "Iteration 1000 : Loss 21760.5394\n"
          ]
        }
      ]
    },
    {
      "cell_type": "code",
      "source": [
        "#test로 성능확인\n",
        "prediction = model(X_test, W, b)\n",
        "mse = loss(X_test, W, b, y_test)\n",
        "mse"
      ],
      "metadata": {
        "colab": {
          "base_uri": "https://localhost:8080/"
        },
        "id": "pK8cOYR6CD-d",
        "outputId": "f91d4ec4-803e-4610-95f2-c407b788c8fd"
      },
      "execution_count": 214,
      "outputs": [
        {
          "output_type": "execute_result",
          "data": {
            "text/plain": [
              "19058.338814090894"
            ]
          },
          "metadata": {},
          "execution_count": 214
        }
      ]
    },
    {
      "cell_type": "code",
      "source": [
        "import matplotlib.pyplot as plt\n",
        "plt.scatter(X_test[:, 0], y_test)\n",
        "plt.scatter(X_test[:, 0], prediction)\n",
        "plt.show()"
      ],
      "metadata": {
        "colab": {
          "base_uri": "https://localhost:8080/",
          "height": 430
        },
        "id": "7j3eBsKbCR6d",
        "outputId": "b3176d8a-bf35-4720-cd94-eebdd57543cc"
      },
      "execution_count": 215,
      "outputs": [
        {
          "output_type": "display_data",
          "data": {
            "text/plain": [
              "<Figure size 640x480 with 1 Axes>"
            ],
            "image/png": "[encoded data removed]"
          },
          "metadata": {}
        }
      ]
    },
    {
      "cell_type": "code",
      "source": [
        "#로스가 높아서 피처수와 학습률 변경\n",
        "print(diabetes.feature_names)\n",
        "df_x1=[]\n",
        "df_x1=diabetes.data[:, [2,3,7,8]]\n",
        "\n",
        "print(df_x1)\n",
        "print(df_x1.shape)"
      ],
      "metadata": {
        "colab": {
          "base_uri": "https://localhost:8080/"
        },
        "id": "xENm-tpHFqLL",
        "outputId": "49a77e45-f114-479a-a514-8aacf9c635a6"
      },
      "execution_count": 216,
      "outputs": [
        {
          "output_type": "stream",
          "name": "stdout",
          "text": [
            "['age', 'sex', 'bmi', 'bp', 's1', 's2', 's3', 's4', 's5', 's6']\n",
            "[[ 0.06169621  0.02187239 -0.00259226  0.01990749]\n",
            " [-0.05147406 -0.02632753 -0.03949338 -0.06833155]\n",
            " [ 0.04445121 -0.00567042 -0.00259226  0.00286131]\n",
            " ...\n",
            " [-0.01590626  0.01729339 -0.01107952 -0.04688253]\n",
            " [ 0.03906215  0.00121528  0.02655962  0.04452873]\n",
            " [-0.0730303  -0.08141314 -0.03949338 -0.00422151]]\n",
            "(442, 4)\n"
          ]
        }
      ]
    },
    {
      "cell_type": "code",
      "source": [
        "#상관관계 분석\n",
        "for i in range(0,10):\n",
        "  print(\"corr\",i,np.corrcoef(diabetes.data[:, i],diabetes.target))\n",
        "# 0번 0.18, 1번 0.04  2번 0.58  3번 0.44  4번 0.21\n",
        "# 5번 0.17  6번 -0.39  7번 0.43  8번 0.56  9번 0.38"
      ],
      "metadata": {
        "colab": {
          "base_uri": "https://localhost:8080/"
        },
        "id": "f57A69UIDJms",
        "outputId": "0830d0a9-ef03-488c-e7db-2c2a573b1b80"
      },
      "execution_count": 217,
      "outputs": [
        {
          "output_type": "stream",
          "name": "stdout",
          "text": [
            "corr 0 [[1.         0.18788875]\n",
            " [0.18788875 1.        ]]\n",
            "corr 1 [[1.       0.043062]\n",
            " [0.043062 1.      ]]\n",
            "corr 2 [[1.         0.58645013]\n",
            " [0.58645013 1.        ]]\n",
            "corr 3 [[1.         0.44148176]\n",
            " [0.44148176 1.        ]]\n",
            "corr 4 [[1.         0.21202248]\n",
            " [0.21202248 1.        ]]\n",
            "corr 5 [[1.         0.17405359]\n",
            " [0.17405359 1.        ]]\n",
            "corr 6 [[ 1.         -0.39478925]\n",
            " [-0.39478925  1.        ]]\n",
            "corr 7 [[1.         0.43045288]\n",
            " [0.43045288 1.        ]]\n",
            "corr 8 [[1.         0.56588259]\n",
            " [0.56588259 1.        ]]\n",
            "corr 9 [[1.         0.38248348]\n",
            " [0.38248348 1.        ]]\n"
          ]
        }
      ]
    },
    {
      "cell_type": "code",
      "source": [
        "X_train, X_test, y_train, y_test = train_test_split(df_x1, df_y, test_size=0.2, random_state=42)\n",
        "#특성 4개\n",
        "#길이가 10인 W와 1개의 숫자인 b를 준비\n",
        "import numpy as np\n",
        "W = np.random.rand(4)\n",
        "b = np.random.rand()\n",
        "\n",
        "#모델 학습하기\n",
        "losses = []\n",
        "\n",
        "#모델 구현\n",
        "def model(X, W, b):\n",
        "    predictions = 0\n",
        "    for i in range(4):\n",
        "        predictions += X[:, i] * W[i]\n",
        "    predictions += b\n",
        "    return predictions\n",
        "\n",
        "LEARNING_RATE = 0.1\n",
        "for i in range(1, 2000):\n",
        "    dW, db = gradient(X_train, W, b, y_train)\n",
        "    W -= LEARNING_RATE * dW\n",
        "    b -= LEARNING_RATE * db\n",
        "    L = loss(X_train, W, b, y_train)\n",
        "    losses.append(L)\n",
        "    if i % 10 == 0:\n",
        "        print('Iteration %d : Loss %0.4f' % (i, L))"
      ],
      "metadata": {
        "colab": {
          "base_uri": "https://localhost:8080/"
        },
        "id": "L2AwFrZ5AzlD",
        "outputId": "4e892672-70ec-45ad-a098-7caf45d5f26c"
      },
      "execution_count": 218,
      "outputs": [
        {
          "output_type": "stream",
          "name": "stdout",
          "text": [
            "Iteration 10 : Loss 6279.7348\n",
            "Iteration 20 : Loss 5957.0536\n",
            "Iteration 30 : Loss 5899.0360\n",
            "Iteration 40 : Loss 5845.1652\n",
            "Iteration 50 : Loss 5792.4157\n",
            "Iteration 60 : Loss 5740.7305\n",
            "Iteration 70 : Loss 5690.0878\n",
            "Iteration 80 : Loss 5640.4661\n",
            "Iteration 90 : Loss 5591.8448\n",
            "Iteration 100 : Loss 5544.2035\n",
            "Iteration 110 : Loss 5497.5221\n",
            "Iteration 120 : Loss 5451.7813\n",
            "Iteration 130 : Loss 5406.9618\n",
            "Iteration 140 : Loss 5363.0448\n",
            "Iteration 150 : Loss 5320.0121\n",
            "Iteration 160 : Loss 5277.8455\n",
            "Iteration 170 : Loss 5236.5275\n",
            "Iteration 180 : Loss 5196.0408\n",
            "Iteration 190 : Loss 5156.3685\n",
            "Iteration 200 : Loss 5117.4940\n",
            "Iteration 210 : Loss 5079.4011\n",
            "Iteration 220 : Loss 5042.0739\n",
            "Iteration 230 : Loss 5005.4967\n",
            "Iteration 240 : Loss 4969.6544\n",
            "Iteration 250 : Loss 4934.5320\n",
            "Iteration 260 : Loss 4900.1148\n",
            "Iteration 270 : Loss 4866.3885\n",
            "Iteration 280 : Loss 4833.3391\n",
            "Iteration 290 : Loss 4800.9527\n",
            "Iteration 300 : Loss 4769.2160\n",
            "Iteration 310 : Loss 4738.1156\n",
            "Iteration 320 : Loss 4707.6387\n",
            "Iteration 330 : Loss 4677.7726\n",
            "Iteration 340 : Loss 4648.5048\n",
            "Iteration 350 : Loss 4619.8232\n",
            "Iteration 360 : Loss 4591.7159\n",
            "Iteration 370 : Loss 4564.1713\n",
            "Iteration 380 : Loss 4537.1777\n",
            "Iteration 390 : Loss 4510.7242\n",
            "Iteration 400 : Loss 4484.7997\n",
            "Iteration 410 : Loss 4459.3934\n",
            "Iteration 420 : Loss 4434.4948\n",
            "Iteration 430 : Loss 4410.0937\n",
            "Iteration 440 : Loss 4386.1799\n",
            "Iteration 450 : Loss 4362.7434\n",
            "Iteration 460 : Loss 4339.7747\n",
            "Iteration 470 : Loss 4317.2642\n",
            "Iteration 480 : Loss 4295.2027\n",
            "Iteration 490 : Loss 4273.5809\n",
            "Iteration 500 : Loss 4252.3900\n",
            "Iteration 510 : Loss 4231.6212\n",
            "Iteration 520 : Loss 4211.2660\n",
            "Iteration 530 : Loss 4191.3160\n",
            "Iteration 540 : Loss 4171.7629\n",
            "Iteration 550 : Loss 4152.5987\n",
            "Iteration 560 : Loss 4133.8154\n",
            "Iteration 570 : Loss 4115.4055\n",
            "Iteration 580 : Loss 4097.3613\n",
            "Iteration 590 : Loss 4079.6753\n",
            "Iteration 600 : Loss 4062.3404\n",
            "Iteration 610 : Loss 4045.3493\n",
            "Iteration 620 : Loss 4028.6952\n",
            "Iteration 630 : Loss 4012.3712\n",
            "Iteration 640 : Loss 3996.3706\n",
            "Iteration 650 : Loss 3980.6869\n",
            "Iteration 660 : Loss 3965.3135\n",
            "Iteration 670 : Loss 3950.2444\n",
            "Iteration 680 : Loss 3935.4732\n",
            "Iteration 690 : Loss 3920.9939\n",
            "Iteration 700 : Loss 3906.8007\n",
            "Iteration 710 : Loss 3892.8877\n",
            "Iteration 720 : Loss 3879.2493\n",
            "Iteration 730 : Loss 3865.8799\n",
            "Iteration 740 : Loss 3852.7741\n",
            "Iteration 750 : Loss 3839.9265\n",
            "Iteration 760 : Loss 3827.3319\n",
            "Iteration 770 : Loss 3814.9851\n",
            "Iteration 780 : Loss 3802.8813\n",
            "Iteration 790 : Loss 3791.0153\n",
            "Iteration 800 : Loss 3779.3826\n",
            "Iteration 810 : Loss 3767.9782\n",
            "Iteration 820 : Loss 3756.7977\n",
            "Iteration 830 : Loss 3745.8364\n",
            "Iteration 840 : Loss 3735.0900\n",
            "Iteration 850 : Loss 3724.5542\n",
            "Iteration 860 : Loss 3714.2245\n",
            "Iteration 870 : Loss 3704.0970\n",
            "Iteration 880 : Loss 3694.1675\n",
            "Iteration 890 : Loss 3684.4319\n",
            "Iteration 900 : Loss 3674.8865\n",
            "Iteration 910 : Loss 3665.5273\n",
            "Iteration 920 : Loss 3656.3507\n",
            "Iteration 930 : Loss 3647.3528\n",
            "Iteration 940 : Loss 3638.5301\n",
            "Iteration 950 : Loss 3629.8791\n",
            "Iteration 960 : Loss 3621.3964\n",
            "Iteration 970 : Loss 3613.0784\n",
            "Iteration 980 : Loss 3604.9219\n",
            "Iteration 990 : Loss 3596.9237\n",
            "Iteration 1000 : Loss 3589.0805\n",
            "Iteration 1010 : Loss 3581.3893\n",
            "Iteration 1020 : Loss 3573.8469\n",
            "Iteration 1030 : Loss 3566.4503\n",
            "Iteration 1040 : Loss 3559.1968\n",
            "Iteration 1050 : Loss 3552.0832\n",
            "Iteration 1060 : Loss 3545.1069\n",
            "Iteration 1070 : Loss 3538.2651\n",
            "Iteration 1080 : Loss 3531.5550\n",
            "Iteration 1090 : Loss 3524.9741\n",
            "Iteration 1100 : Loss 3518.5196\n",
            "Iteration 1110 : Loss 3512.1892\n",
            "Iteration 1120 : Loss 3505.9802\n",
            "Iteration 1130 : Loss 3499.8903\n",
            "Iteration 1140 : Loss 3493.9170\n",
            "Iteration 1150 : Loss 3488.0581\n",
            "Iteration 1160 : Loss 3482.3111\n",
            "Iteration 1170 : Loss 3476.6740\n",
            "Iteration 1180 : Loss 3471.1444\n",
            "Iteration 1190 : Loss 3465.7202\n",
            "Iteration 1200 : Loss 3460.3993\n",
            "Iteration 1210 : Loss 3455.1796\n",
            "Iteration 1220 : Loss 3450.0591\n",
            "Iteration 1230 : Loss 3445.0358\n",
            "Iteration 1240 : Loss 3440.1078\n",
            "Iteration 1250 : Loss 3435.2731\n",
            "Iteration 1260 : Loss 3430.5299\n",
            "Iteration 1270 : Loss 3425.8764\n",
            "Iteration 1280 : Loss 3421.3107\n",
            "Iteration 1290 : Loss 3416.8311\n",
            "Iteration 1300 : Loss 3412.4359\n",
            "Iteration 1310 : Loss 3408.1233\n",
            "Iteration 1320 : Loss 3403.8919\n",
            "Iteration 1330 : Loss 3399.7398\n",
            "Iteration 1340 : Loss 3395.6656\n",
            "Iteration 1350 : Loss 3391.6676\n",
            "Iteration 1360 : Loss 3387.7444\n",
            "Iteration 1370 : Loss 3383.8945\n",
            "Iteration 1380 : Loss 3380.1163\n",
            "Iteration 1390 : Loss 3376.4086\n",
            "Iteration 1400 : Loss 3372.7698\n",
            "Iteration 1410 : Loss 3369.1986\n",
            "Iteration 1420 : Loss 3365.6937\n",
            "Iteration 1430 : Loss 3362.2537\n",
            "Iteration 1440 : Loss 3358.8773\n",
            "Iteration 1450 : Loss 3355.5634\n",
            "Iteration 1460 : Loss 3352.3105\n",
            "Iteration 1470 : Loss 3349.1176\n",
            "Iteration 1480 : Loss 3345.9834\n",
            "Iteration 1490 : Loss 3342.9067\n",
            "Iteration 1500 : Loss 3339.8865\n",
            "Iteration 1510 : Loss 3336.9216\n",
            "Iteration 1520 : Loss 3334.0109\n",
            "Iteration 1530 : Loss 3331.1533\n",
            "Iteration 1540 : Loss 3328.3478\n",
            "Iteration 1550 : Loss 3325.5933\n",
            "Iteration 1560 : Loss 3322.8889\n",
            "Iteration 1570 : Loss 3320.2335\n",
            "Iteration 1580 : Loss 3317.6262\n",
            "Iteration 1590 : Loss 3315.0660\n",
            "Iteration 1600 : Loss 3312.5521\n",
            "Iteration 1610 : Loss 3310.0834\n",
            "Iteration 1620 : Loss 3307.6590\n",
            "Iteration 1630 : Loss 3305.2782\n",
            "Iteration 1640 : Loss 3302.9401\n",
            "Iteration 1650 : Loss 3300.6437\n",
            "Iteration 1660 : Loss 3298.3884\n",
            "Iteration 1670 : Loss 3296.1732\n",
            "Iteration 1680 : Loss 3293.9975\n",
            "Iteration 1690 : Loss 3291.8603\n",
            "Iteration 1700 : Loss 3289.7610\n",
            "Iteration 1710 : Loss 3287.6989\n",
            "Iteration 1720 : Loss 3285.6731\n",
            "Iteration 1730 : Loss 3283.6829\n",
            "Iteration 1740 : Loss 3281.7278\n",
            "Iteration 1750 : Loss 3279.8069\n",
            "Iteration 1760 : Loss 3277.9197\n",
            "Iteration 1770 : Loss 3276.0654\n",
            "Iteration 1780 : Loss 3274.2435\n",
            "Iteration 1790 : Loss 3272.4532\n",
            "Iteration 1800 : Loss 3270.6940\n",
            "Iteration 1810 : Loss 3268.9652\n",
            "Iteration 1820 : Loss 3267.2663\n",
            "Iteration 1830 : Loss 3265.5967\n",
            "Iteration 1840 : Loss 3263.9558\n",
            "Iteration 1850 : Loss 3262.3430\n",
            "Iteration 1860 : Loss 3260.7579\n",
            "Iteration 1870 : Loss 3259.1998\n",
            "Iteration 1880 : Loss 3257.6682\n",
            "Iteration 1890 : Loss 3256.1627\n",
            "Iteration 1900 : Loss 3254.6827\n",
            "Iteration 1910 : Loss 3253.2277\n",
            "Iteration 1920 : Loss 3251.7973\n",
            "Iteration 1930 : Loss 3250.3909\n",
            "Iteration 1940 : Loss 3249.0082\n",
            "Iteration 1950 : Loss 3247.6486\n",
            "Iteration 1960 : Loss 3246.3117\n",
            "Iteration 1970 : Loss 3244.9970\n",
            "Iteration 1980 : Loss 3243.7042\n",
            "Iteration 1990 : Loss 3242.4328\n"
          ]
        }
      ]
    },
    {
      "cell_type": "code",
      "source": [
        "#test로 성능확인\n",
        "prediction = model(X_test, W, b)\n",
        "mse = loss(X_test, W, b, y_test)\n",
        "mse"
      ],
      "metadata": {
        "colab": {
          "base_uri": "https://localhost:8080/"
        },
        "id": "iJ9v7rhq8DVb",
        "outputId": "dd33753c-5b1d-48f9-d9d5-26382410aa73"
      },
      "execution_count": 219,
      "outputs": [
        {
          "output_type": "execute_result",
          "data": {
            "text/plain": [
              "2920.1664126265914"
            ]
          },
          "metadata": {},
          "execution_count": 219
        }
      ]
    },
    {
      "cell_type": "code",
      "source": [
        "import matplotlib.pyplot as plt\n",
        "plt.scatter(X_test[:, 0], y_test)\n",
        "plt.scatter(X_test[:, 0], prediction)\n",
        "plt.show()"
      ],
      "metadata": {
        "colab": {
          "base_uri": "https://localhost:8080/",
          "height": 430
        },
        "id": "7_yHV-hxKXeG",
        "outputId": "ffcdcc7d-1374-4d33-858c-5446d8ccb83a"
      },
      "execution_count": 220,
      "outputs": [
        {
          "output_type": "display_data",
          "data": {
            "text/plain": [
              "<Figure size 640x480 with 1 Axes>"
            ],
            "image/png": "[encoded data removed]"
          },
          "metadata": {}
        }
      ]
    }
  ]
}